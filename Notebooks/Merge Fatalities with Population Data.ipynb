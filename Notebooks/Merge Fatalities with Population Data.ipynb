{
 "cells": [
  {
   "cell_type": "code",
   "execution_count": 168,
   "metadata": {},
   "outputs": [],
   "source": [
    "import pandas as pd"
   ]
  },
  {
   "cell_type": "markdown",
   "metadata": {},
   "source": [
    "Import geocoded data and drop unwanted column"
   ]
  },
  {
   "cell_type": "code",
   "execution_count": 169,
   "metadata": {},
   "outputs": [
    {
     "data": {
      "text/html": [
       "<div>\n",
       "<style scoped>\n",
       "    .dataframe tbody tr th:only-of-type {\n",
       "        vertical-align: middle;\n",
       "    }\n",
       "\n",
       "    .dataframe tbody tr th {\n",
       "        vertical-align: top;\n",
       "    }\n",
       "\n",
       "    .dataframe thead th {\n",
       "        text-align: right;\n",
       "    }\n",
       "</style>\n",
       "<table border=\"1\" class=\"dataframe\">\n",
       "  <thead>\n",
       "    <tr style=\"text-align: right;\">\n",
       "      <th></th>\n",
       "      <th>name</th>\n",
       "      <th>date</th>\n",
       "      <th>manner_of_death</th>\n",
       "      <th>armed</th>\n",
       "      <th>age</th>\n",
       "      <th>gender</th>\n",
       "      <th>race</th>\n",
       "      <th>city</th>\n",
       "      <th>state</th>\n",
       "      <th>signs_of_mental_illness</th>\n",
       "      <th>threat_level</th>\n",
       "      <th>flee</th>\n",
       "      <th>body_camera</th>\n",
       "      <th>location</th>\n",
       "      <th>latitude</th>\n",
       "      <th>longitude</th>\n",
       "    </tr>\n",
       "  </thead>\n",
       "  <tbody>\n",
       "    <tr>\n",
       "      <th>0</th>\n",
       "      <td>Tim Elliot</td>\n",
       "      <td>2015-01-02</td>\n",
       "      <td>shot</td>\n",
       "      <td>gun</td>\n",
       "      <td>53.0</td>\n",
       "      <td>M</td>\n",
       "      <td>A</td>\n",
       "      <td>Shelton</td>\n",
       "      <td>WA</td>\n",
       "      <td>True</td>\n",
       "      <td>attack</td>\n",
       "      <td>Not fleeing</td>\n",
       "      <td>False</td>\n",
       "      <td>Shelton, WA</td>\n",
       "      <td>47.215094</td>\n",
       "      <td>-123.100707</td>\n",
       "    </tr>\n",
       "    <tr>\n",
       "      <th>1</th>\n",
       "      <td>Lewis Lee Lembke</td>\n",
       "      <td>2015-01-02</td>\n",
       "      <td>shot</td>\n",
       "      <td>gun</td>\n",
       "      <td>47.0</td>\n",
       "      <td>M</td>\n",
       "      <td>W</td>\n",
       "      <td>Aloha</td>\n",
       "      <td>OR</td>\n",
       "      <td>False</td>\n",
       "      <td>attack</td>\n",
       "      <td>Not fleeing</td>\n",
       "      <td>False</td>\n",
       "      <td>Aloha, OR</td>\n",
       "      <td>45.494284</td>\n",
       "      <td>-122.867045</td>\n",
       "    </tr>\n",
       "    <tr>\n",
       "      <th>2</th>\n",
       "      <td>Phyllis Ilene Jepsen</td>\n",
       "      <td>2015-10-02</td>\n",
       "      <td>shot</td>\n",
       "      <td>knife</td>\n",
       "      <td>55.0</td>\n",
       "      <td>F</td>\n",
       "      <td>W</td>\n",
       "      <td>Aloha</td>\n",
       "      <td>OR</td>\n",
       "      <td>True</td>\n",
       "      <td>other</td>\n",
       "      <td>Not fleeing</td>\n",
       "      <td>False</td>\n",
       "      <td>Aloha, OR</td>\n",
       "      <td>45.494284</td>\n",
       "      <td>-122.867045</td>\n",
       "    </tr>\n",
       "    <tr>\n",
       "      <th>3</th>\n",
       "      <td>John Paul Quintero</td>\n",
       "      <td>2015-01-03</td>\n",
       "      <td>shot and Tasered</td>\n",
       "      <td>unarmed</td>\n",
       "      <td>23.0</td>\n",
       "      <td>M</td>\n",
       "      <td>H</td>\n",
       "      <td>Wichita</td>\n",
       "      <td>KS</td>\n",
       "      <td>False</td>\n",
       "      <td>other</td>\n",
       "      <td>Not fleeing</td>\n",
       "      <td>False</td>\n",
       "      <td>Wichita, KS</td>\n",
       "      <td>37.687176</td>\n",
       "      <td>-97.330053</td>\n",
       "    </tr>\n",
       "    <tr>\n",
       "      <th>4</th>\n",
       "      <td>Nicholas Garner</td>\n",
       "      <td>2015-08-22</td>\n",
       "      <td>shot</td>\n",
       "      <td>NaN</td>\n",
       "      <td>26.0</td>\n",
       "      <td>M</td>\n",
       "      <td>W</td>\n",
       "      <td>Wichita</td>\n",
       "      <td>KS</td>\n",
       "      <td>False</td>\n",
       "      <td>attack</td>\n",
       "      <td>Car</td>\n",
       "      <td>False</td>\n",
       "      <td>Wichita, KS</td>\n",
       "      <td>37.687176</td>\n",
       "      <td>-97.330053</td>\n",
       "    </tr>\n",
       "  </tbody>\n",
       "</table>\n",
       "</div>"
      ],
      "text/plain": [
       "                   name        date   manner_of_death    armed   age gender  \\\n",
       "0            Tim Elliot  2015-01-02              shot      gun  53.0      M   \n",
       "1      Lewis Lee Lembke  2015-01-02              shot      gun  47.0      M   \n",
       "2  Phyllis Ilene Jepsen  2015-10-02              shot    knife  55.0      F   \n",
       "3    John Paul Quintero  2015-01-03  shot and Tasered  unarmed  23.0      M   \n",
       "4       Nicholas Garner  2015-08-22              shot      NaN  26.0      M   \n",
       "\n",
       "  race     city state  signs_of_mental_illness threat_level         flee  \\\n",
       "0    A  Shelton    WA                     True       attack  Not fleeing   \n",
       "1    W    Aloha    OR                    False       attack  Not fleeing   \n",
       "2    W    Aloha    OR                     True        other  Not fleeing   \n",
       "3    H  Wichita    KS                    False        other  Not fleeing   \n",
       "4    W  Wichita    KS                    False       attack          Car   \n",
       "\n",
       "   body_camera     location   latitude   longitude  \n",
       "0        False  Shelton, WA  47.215094 -123.100707  \n",
       "1        False    Aloha, OR  45.494284 -122.867045  \n",
       "2        False    Aloha, OR  45.494284 -122.867045  \n",
       "3        False  Wichita, KS  37.687176  -97.330053  \n",
       "4        False  Wichita, KS  37.687176  -97.330053  "
      ]
     },
     "execution_count": 169,
     "metadata": {},
     "output_type": "execute_result"
    }
   ],
   "source": [
    "fatalities = pd.read_csv('fatalities_geocoded.csv')\n",
    "fatalities = fatalities.drop('Unnamed: 0', axis = 1)\n",
    "fatalities.head()"
   ]
  },
  {
   "cell_type": "markdown",
   "metadata": {},
   "source": [
    "Import population data"
   ]
  },
  {
   "cell_type": "code",
   "execution_count": 170,
   "metadata": {},
   "outputs": [],
   "source": [
    "population = pd.read_csv('population.csv')"
   ]
  },
  {
   "cell_type": "markdown",
   "metadata": {},
   "source": [
    "Import state names and abbreviations"
   ]
  },
  {
   "cell_type": "code",
   "execution_count": 171,
   "metadata": {},
   "outputs": [],
   "source": [
    "state_name_and_abbrev = pd.read_csv('https://raw.githubusercontent.com/jasonong/List-of-US-States/master/states.csv')"
   ]
  },
  {
   "cell_type": "markdown",
   "metadata": {},
   "source": [
    "Rename 'State' column in order to join population dataframe with state_name_and_abbrev dataframe; drop unwanted column and rename 'Abbreviation' column to 'state'"
   ]
  },
  {
   "cell_type": "code",
   "execution_count": 172,
   "metadata": {},
   "outputs": [],
   "source": [
    "state_name_and_abbrev = state_name_and_abbrev.rename({'State' : 'state'}, axis = 1)\n",
    "\n",
    "population = pd.merge(state_name_and_abbrev, population, how = 'inner')\n",
    "\n",
    "population = population.drop('state', axis = 1)\n",
    "\n",
    "population = population.rename({'Abbreviation' : 'state'}, axis = 1)"
   ]
  },
  {
   "cell_type": "markdown",
   "metadata": {},
   "source": [
    "Calculate average annual rate of change for population, by state, in order to calculate the average rate of change, which is used to estimate 2019 population, by state."
   ]
  },
  {
   "cell_type": "code",
   "execution_count": 173,
   "metadata": {},
   "outputs": [],
   "source": [
    "population['diff_2015_2016'] = ((population['2016'] - population['2015']) / population['2015']) * 100\n",
    "population['diff_2016_2017'] = ((population['2017'] - population['2016']) / population['2016']) * 100\n",
    "population['diff_2017_2018'] = ((population['2018'] - population['2017']) / population['2017']) * 100\n",
    "\n",
    "population['avg_diff'] = (population['diff_2015_2016'] + population['diff_2016_2017'] + population['diff_2017_2018']) / 3\n",
    "\n",
    "population['2019'] = pd.Series(population['2018'] * ((100 + population['avg_diff']) / 100))\n",
    "\n",
    "# Convert from float to int, to be rid of decimals and scientific notation\n",
    "\n",
    "population['2019'] = population['2019'].astype(int)"
   ]
  },
  {
   "cell_type": "markdown",
   "metadata": {},
   "source": [
    "Join fatalities dataframe with population dataframe, drop unwanted columns, and rename remaining columns"
   ]
  },
  {
   "cell_type": "code",
   "execution_count": 174,
   "metadata": {},
   "outputs": [],
   "source": [
    "mega_merge = pd.merge(fatalities, population, 'inner')\n",
    "\n",
    "mega_merge = mega_merge.drop(['diff_2015_2016', 'diff_2016_2017', 'diff_2017_2018', 'avg_diff'], axis = 1)\n",
    "\n",
    "mega_merge = mega_merge.rename({'2015' : '2015_pop',\n",
    "                                '2016' : '2016_pop',\n",
    "                                '2017' : '2017_pop',\n",
    "                                '2018' : '2018_pop',\n",
    "                                '2019' : '2019_pop_est'}, axis = 1)"
   ]
  },
  {
   "cell_type": "markdown",
   "metadata": {},
   "source": [
    "Export dataframe as .csv"
   ]
  },
  {
   "cell_type": "code",
   "execution_count": 167,
   "metadata": {},
   "outputs": [],
   "source": [
    "mega_merge.to_csv('fatalities_geocoded_with_pop.csv')"
   ]
  }
 ],
 "metadata": {
  "kernelspec": {
   "display_name": "Python 3",
   "language": "python",
   "name": "python3"
  },
  "language_info": {
   "codemirror_mode": {
    "name": "ipython",
    "version": 3
   },
   "file_extension": ".py",
   "mimetype": "text/x-python",
   "name": "python",
   "nbconvert_exporter": "python",
   "pygments_lexer": "ipython3",
   "version": "3.6.8"
  }
 },
 "nbformat": 4,
 "nbformat_minor": 2
}
